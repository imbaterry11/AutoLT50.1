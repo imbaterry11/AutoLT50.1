{
 "cells": [
  {
   "cell_type": "markdown",
   "metadata": {
    "colab": {
     "base_uri": "https://localhost:8080/"
    },
    "id": "6YAE2fiA94G5",
    "outputId": "c754d49f-437e-4278-f383-ac4b8411c631"
   },
   "source": [
    "# NYUS.2 training and feature importance quantification"
   ]
  },
  {
   "cell_type": "markdown",
   "metadata": {},
   "source": [
    "The model is trained using AutoGluon(0.7.0) in Python 3.9.12. However. the training data can generate a prediction model using the most updated AutoGluon package with any supported versions of Python."
   ]
  },
  {
   "cell_type": "markdown",
   "metadata": {},
   "source": [
    "## Model training\n",
    "The goal of this step is to generate a model named 'NYUS.2' in a folder with same name. "
   ]
  },
  {
   "cell_type": "code",
   "execution_count": null,
   "metadata": {
    "id": "I-hfBzCv-Zex"
   },
   "outputs": [],
   "source": [
    "#!pip install autogluon==0.7.0\n",
    "import autogluon\n",
    "import pandas as pd\n",
    "import numpy as np\n",
    "import matplotlib.pyplot as plt\n",
    "%matplotlib inline\n",
    "import seaborn as sns"
   ]
  },
  {
   "cell_type": "code",
   "execution_count": null,
   "metadata": {
    "id": "GFFwGlgh-8RN"
   },
   "outputs": [],
   "source": [
    "from autogluon.tabular import TabularDataset, TabularPredictor"
   ]
  },
  {
   "cell_type": "code",
   "execution_count": null,
   "metadata": {
    "colab": {
     "base_uri": "https://localhost:8080/",
     "height": 488
    },
    "executionInfo": {
     "elapsed": 1069,
     "status": "ok",
     "timestamp": 1654013286448,
     "user": {
      "displayName": "Hongrui Wang",
      "userId": "04016851104878316140"
     },
     "user_tz": 240
    },
    "id": "MQoW5b0C-_2F",
    "outputId": "3a5e4a87-e3f6-4086-8cf4-7192d43e79e7"
   },
   "outputs": [],
   "source": [
    "df=pd.read_csv('All_training_data_9_sites.csv', sep=\",\", header=0)"
   ]
  },
  {
   "cell_type": "code",
   "execution_count": null,
   "metadata": {
    "colab": {
     "base_uri": "https://localhost:8080/"
    },
    "executionInfo": {
     "elapsed": 168,
     "status": "ok",
     "timestamp": 1654013295282,
     "user": {
      "displayName": "Hongrui Wang",
      "userId": "04016851104878316140"
     },
     "user_tz": 240
    },
    "id": "1ytBlQ13F1lB",
    "outputId": "ad24864a-f647-42af-89ef-3dd5314a1f2f"
   },
   "outputs": [],
   "source": [
    "#Drop unnecessary columns\n",
    "df_training = df.drop(['Date','Location','photoperiod.Daylength','DP'],1)"
   ]
  },
  {
   "cell_type": "code",
   "execution_count": null,
   "metadata": {
    "id": "_JDmDdKqC2jV"
   },
   "outputs": [],
   "source": [
    "#Splitting the entire dataset to 9:1 (training data: testing data)\n",
    "train_data = df_training.sample(frac=0.9, random_state=25)\n",
    "test_data = df_training.drop(train_data.index)"
   ]
  },
  {
   "cell_type": "code",
   "execution_count": null,
   "metadata": {
    "colab": {
     "base_uri": "https://localhost:8080/"
    },
    "executionInfo": {
     "elapsed": 6,
     "status": "ok",
     "timestamp": 1654013305701,
     "user": {
      "displayName": "Hongrui Wang",
      "userId": "04016851104878316140"
     },
     "user_tz": 240
    },
    "id": "ifaeU7W1YLQ8",
    "outputId": "7626bfdc-9319-4b53-803d-668a0920fce9"
   },
   "outputs": [],
   "source": [
    "df_training.shape\n",
    "train_data.shape\n",
    "test_data.shape"
   ]
  },
  {
   "cell_type": "code",
   "execution_count": null,
   "metadata": {
    "id": "HTBjJjTN5tQK"
   },
   "outputs": [],
   "source": [
    "#Optional: save the training data\n",
    "train_data.to_csv('train_data.csv',index = True, header=True)\n",
    "#Optional: save the testing data\n",
    "test_data.to_csv('test_data.csv',index = True, header=True)"
   ]
  },
  {
   "cell_type": "code",
   "execution_count": null,
   "metadata": {
    "colab": {
     "base_uri": "https://localhost:8080/"
    },
    "executionInfo": {
     "elapsed": 212,
     "status": "ok",
     "timestamp": 1654013312967,
     "user": {
      "displayName": "Hongrui Wang",
      "userId": "04016851104878316140"
     },
     "user_tz": 240
    },
    "id": "OK2zzwXiDnYk",
    "outputId": "8e8ea48c-4be5-452e-f77b-13c29e931a54"
   },
   "outputs": [],
   "source": [
    "#Check row label (LT50)\n",
    "LT50_column = 'LT50'\n",
    "print(\"Summary of age variable: \\n\", train_data[LT50_column].describe())"
   ]
  },
  {
   "cell_type": "code",
   "execution_count": null,
   "metadata": {
    "colab": {
     "base_uri": "https://localhost:8080/"
    },
    "executionInfo": {
     "elapsed": 2022381,
     "status": "ok",
     "timestamp": 1654016821792,
     "user": {
      "displayName": "Hongrui Wang",
      "userId": "04016851104878316140"
     },
     "user_tz": 240
    },
    "id": "pTZFNJ2nDnOs",
    "outputId": "38a4f5c0-244f-49dd-966c-338389f8a860"
   },
   "outputs": [],
   "source": [
    "#Training with AutoGluon\n",
    "predictor_LT50 = TabularPredictor(label=LT50_column, path=\"NYUS.2\").fit(train_data, presets='best_quality',num_bag_folds = 10, num_stack_levels = 4)"
   ]
  },
  {
   "cell_type": "code",
   "execution_count": null,
   "metadata": {
    "colab": {
     "base_uri": "https://localhost:8080/",
     "height": 35
    },
    "executionInfo": {
     "elapsed": 30,
     "status": "ok",
     "timestamp": 1654016821795,
     "user": {
      "displayName": "Hongrui Wang",
      "userId": "04016851104878316140"
     },
     "user_tz": 240
    },
    "id": "GnAEBkO96eGc",
    "outputId": "487fe808-0514-43fe-cc79-7131a2c17ca8"
   },
   "outputs": [],
   "source": [
    "#The best model with best performance during training\n",
    "predictor_LT50.get_model_best()"
   ]
  },
  {
   "cell_type": "code",
   "execution_count": null,
   "metadata": {
    "colab": {
     "base_uri": "https://localhost:8080/"
    },
    "executionInfo": {
     "elapsed": 4028,
     "status": "ok",
     "timestamp": 1654016825811,
     "user": {
      "displayName": "Hongrui Wang",
      "userId": "04016851104878316140"
     },
     "user_tz": 240
    },
    "id": "Cd-5gddJizBz",
    "outputId": "860c971e-06d8-4866-b4ca-fcc085492827"
   },
   "outputs": [],
   "source": [
    "#model performance on test data\n",
    "performance = predictor_LT50.evaluate(test_data, detailed_report=True,auxiliary_metrics = True)"
   ]
  },
  {
   "cell_type": "code",
   "execution_count": null,
   "metadata": {
    "colab": {
     "base_uri": "https://localhost:8080/",
     "height": 960
    },
    "executionInfo": {
     "elapsed": 12305,
     "status": "ok",
     "timestamp": 1654014648397,
     "user": {
      "displayName": "Hongrui Wang",
      "userId": "04016851104878316140"
     },
     "user_tz": 240
    },
    "id": "-_kTo3d5P6AK",
    "outputId": "2062ebce-30f6-4c64-eb3b-c65eff38eed3"
   },
   "outputs": [],
   "source": [
    "#The performance of all the models generated during training on testing data (score_test) and model validation data (score_val, only automatically used during training)\n",
    "leader_board = predictor_LT50.leaderboard(test_data, silent=True)\n",
    "leader_board"
   ]
  },
  {
   "cell_type": "code",
   "execution_count": null,
   "metadata": {},
   "outputs": [],
   "source": [
    "#Optional: save the leader_board\n",
    "leader_board.to_csv('leader_board_all.csv',index = False, header=True)"
   ]
  },
  {
   "cell_type": "code",
   "execution_count": null,
   "metadata": {
    "colab": {
     "base_uri": "https://localhost:8080/"
    },
    "executionInfo": {
     "elapsed": 407,
     "status": "ok",
     "timestamp": 1654016881504,
     "user": {
      "displayName": "Hongrui Wang",
      "userId": "04016851104878316140"
     },
     "user_tz": 240
    },
    "id": "LSMl489wMuOa",
    "outputId": "8a092db6-d02e-44fc-cd39-da772be33952"
   },
   "outputs": [],
   "source": [
    "#best model's info\n",
    "best_model = predictor_LTE._trainer.load_model(predictor_LTE.get_model_best())\n",
    "best_model.get_info()"
   ]
  },
  {
   "cell_type": "code",
   "execution_count": null,
   "metadata": {
    "colab": {
     "base_uri": "https://localhost:8080/",
     "height": 300
    },
    "executionInfo": {
     "elapsed": 184,
     "status": "ok",
     "timestamp": 1654016884589,
     "user": {
      "displayName": "Hongrui Wang",
      "userId": "04016851104878316140"
     },
     "user_tz": 240
    },
    "id": "-HgBO-OYS2xw",
    "outputId": "80183daa-605b-4615-dc75-f6d18532b3b5"
   },
   "outputs": [],
   "source": [
    "#Retrieve the measured LT50 of testing data\n",
    "test_data_nolab = test_data.drop(columns=[LT50_column])\n",
    "y_test = test_data[LT50_column]\n",
    "#test_data_nolab.head()\n",
    "#y_test is the predicted LT50 of the test data\n",
    "y_test\n",
    "#Optional: save the measured LT50 of testing data\n",
    "y_test.to_csv(r'y_test.csv', index = True, header=True)"
   ]
  },
  {
   "cell_type": "code",
   "execution_count": null,
   "metadata": {
    "colab": {
     "base_uri": "https://localhost:8080/"
    },
    "executionInfo": {
     "elapsed": 2881,
     "status": "ok",
     "timestamp": 1654016892985,
     "user": {
      "displayName": "Hongrui Wang",
      "userId": "04016851104878316140"
     },
     "user_tz": 240
    },
    "id": "bSNt2R_fTr-u",
    "outputId": "2577218d-0e6d-4efa-bfde-16b2d1277b10"
   },
   "outputs": [],
   "source": [
    "#Retrieve the predicted LT50 of testing data\n",
    "y_pred = predictor_LT50.predict(test_data_nolab)\n",
    "print(\"Predictions:  \\n\", y_pred)\n",
    "perf = predictor_LT50.evaluate_predictions(y_true=y_test, y_pred=y_pred, auxiliary_metrics=True)\n",
    "#y_pred is the predicted LT50 of the test data\n",
    "y_pred\n",
    "#Optional: save the predicted LT50 of testing data\n",
    "y_pred.to_csv (r'y_pred.csv', index = True, header=True)"
   ]
  },
  {
   "cell_type": "code",
   "execution_count": null,
   "metadata": {
    "colab": {
     "base_uri": "https://localhost:8080/"
    },
    "executionInfo": {
     "elapsed": 423,
     "status": "ok",
     "timestamp": 1654016896610,
     "user": {
      "displayName": "Hongrui Wang",
      "userId": "04016851104878316140"
     },
     "user_tz": 240
    },
    "id": "N585HBOAeX3I",
    "outputId": "32aec984-1061-410f-a2d5-cce8b7a1dfe4"
   },
   "outputs": [],
   "source": [
    "#Showing the training result and the details of each model\n",
    "predictor_LTE.fit_summary(show_plot=True)"
   ]
  },
  {
   "cell_type": "markdown",
   "metadata": {},
   "source": [
    "## Feature importance quantification in AutoGluon\n",
    "This step will likely take longer to finish"
   ]
  },
  {
   "cell_type": "code",
   "execution_count": null,
   "metadata": {
    "colab": {
     "base_uri": "https://localhost:8080/",
     "height": 345
    },
    "executionInfo": {
     "elapsed": 407041,
     "status": "error",
     "timestamp": 1651440636559,
     "user": {
      "displayName": "Hongrui Wang",
      "userId": "04016851104878316140"
     },
     "user_tz": 240
    },
    "id": "r99JqIsHU_Ai",
    "outputId": "04ba5a08-5290-4f47-fd60-6717cecb5927"
   },
   "outputs": [],
   "source": [
    "#Feature importance with AutoGluon\n",
    "feature_importance = pd.DataFrame(predictor_LT50.feature_importance(test_data,num_shuffle_sets=100,subsample_size=1000))\n",
    "feature_importance\n",
    "feature_importance.to_csv (r'feature_importance.csv', index = True, header=True)"
   ]
  },
  {
   "cell_type": "markdown",
   "metadata": {},
   "source": [
    "## Featuer importance quantification in SHAP\n",
    "This step will likely take longer to finish"
   ]
  },
  {
   "cell_type": "code",
   "execution_count": null,
   "metadata": {
    "colab": {
     "base_uri": "https://localhost:8080/"
    },
    "executionInfo": {
     "elapsed": 6231,
     "status": "ok",
     "timestamp": 1653319387957,
     "user": {
      "displayName": "Hongrui Wang",
      "userId": "04016851104878316140"
     },
     "user_tz": 240
    },
    "id": "XBver0wpRDB0",
    "outputId": "7577f30c-ef0a-463a-bd56-7789e8a4a5f5"
   },
   "outputs": [],
   "source": [
    "#Feature importance with SHAP\n",
    "!pip install shap"
   ]
  },
  {
   "cell_type": "code",
   "execution_count": null,
   "metadata": {
    "id": "tlS2P0g7DAPt"
   },
   "outputs": [],
   "source": [
    "import shap\n",
    "import sklearn\n",
    "import time\n",
    "import warnings"
   ]
  },
  {
   "cell_type": "code",
   "execution_count": null,
   "metadata": {
    "colab": {
     "base_uri": "https://localhost:8080/",
     "height": 317
    },
    "executionInfo": {
     "elapsed": 18,
     "status": "ok",
     "timestamp": 1653319390095,
     "user": {
      "displayName": "Hongrui Wang",
      "userId": "04016851104878316140"
     },
     "user_tz": 240
    },
    "id": "GyG_a6QgyIr1",
    "outputId": "a264da22-f440-4dd9-8fff-82c1f1286ca3"
   },
   "outputs": [],
   "source": [
    "X_train = train_data.drop('LTE',1)\n",
    "X_train.head()\n",
    "Y_train = train_data['LTE']\n",
    "Y_train.head()\n",
    "X_valid = test_data.drop('LTE',1)\n",
    "X_valid.head()\n",
    "Y_valid = test_data['LTE']\n",
    "Y_valid.head()"
   ]
  },
  {
   "cell_type": "code",
   "execution_count": null,
   "metadata": {
    "id": "UFUYuQdE-sri"
   },
   "outputs": [],
   "source": [
    "def print_accuracy(f):\n",
    "    print(\"Root mean squared test error = {0}\".format(np.sqrt(np.mean((f(X_valid) - Y_valid)**2))))\n",
    "    time.sleep(0.5) # to let the print get out before any progress bars"
   ]
  },
  {
   "cell_type": "code",
   "execution_count": null,
   "metadata": {
    "id": "4p_xCjqqRC_Q"
   },
   "outputs": [],
   "source": [
    "class AutogluonWrapper:\n",
    "    def __init__(self, predictor, feature_names):\n",
    "        self.ag_model = predictor\n",
    "        self.feature_names = feature_names\n",
    "    \n",
    "    def predict(self, X):\n",
    "        if isinstance(X, pd.Series):\n",
    "            X = X.values.reshape(1,-1)\n",
    "        if not isinstance(X, pd.DataFrame):\n",
    "            X = pd.DataFrame(X, columns=self.feature_names)\n",
    "        return self.ag_model.predict(X)"
   ]
  },
  {
   "cell_type": "code",
   "execution_count": null,
   "metadata": {
    "colab": {
     "base_uri": "https://localhost:8080/"
    },
    "executionInfo": {
     "elapsed": 1535,
     "status": "ok",
     "timestamp": 1653319391623,
     "user": {
      "displayName": "Hongrui Wang",
      "userId": "04016851104878316140"
     },
     "user_tz": 240
    },
    "id": "jJ_cDEqi_MzT",
    "outputId": "df89c58e-3ed1-4eca-9809-3693c61839f4"
   },
   "outputs": [],
   "source": [
    "X_train_summary = shap.kmeans(X_train, 10)\n",
    "print(\"Baseline feature-values: \\n\", X_train_summary)"
   ]
  },
  {
   "cell_type": "code",
   "execution_count": null,
   "metadata": {
    "colab": {
     "base_uri": "https://localhost:8080/"
    },
    "executionInfo": {
     "elapsed": 4240,
     "status": "ok",
     "timestamp": 1653319395860,
     "user": {
      "displayName": "Hongrui Wang",
      "userId": "04016851104878316140"
     },
     "user_tz": 240
    },
    "id": "xJ4eyGUFRC8q",
    "outputId": "27cbc5fd-c649-4817-8851-60165fe45b42"
   },
   "outputs": [],
   "source": [
    "ag_wrapper = AutogluonWrapper(predictor_LTE, feature_names)\n",
    "print_accuracy(ag_wrapper.predict)\n",
    "ag_wrapper.predict"
   ]
  },
  {
   "cell_type": "code",
   "execution_count": null,
   "metadata": {
    "id": "b3c8sSL3RC6M"
   },
   "outputs": [],
   "source": [
    "explainer = shap.KernelExplainer(ag_wrapper.predict,X_train_summary)\n",
    "NSHAP_SAMPLES = 1000  # how many samples to use to approximate each Shapely value, larger values will be slower\n",
    "N_VAL = X_valid.shape[0] # how many datapoints from validation data should we interpret predictions for, larger values will be slower"
   ]
  },
  {
   "cell_type": "code",
   "execution_count": null,
   "metadata": {
    "colab": {
     "base_uri": "https://localhost:8080/"
    },
    "executionInfo": {
     "elapsed": 3167,
     "status": "ok",
     "timestamp": 1653319402514,
     "user": {
      "displayName": "Hongrui Wang",
      "userId": "04016851104878316140"
     },
     "user_tz": 240
    },
    "id": "EmZshyBdRC0c",
    "outputId": "47bc4617-a351-40d3-b997-c70c08f071d6"
   },
   "outputs": [],
   "source": [
    "ROW_INDEX = 12  # index of an example datapoint\n",
    "single_datapoint = X_train.iloc[[ROW_INDEX]]\n",
    "single_prediction = ag_wrapper.predict(single_datapoint)\n",
    "single_prediction"
   ]
  },
  {
   "cell_type": "code",
   "execution_count": null,
   "metadata": {
    "colab": {
     "base_uri": "https://localhost:8080/",
     "height": 281,
     "referenced_widgets": [
      "0545396483b94f12a76829067464c36f",
      "ba40ec543fb04e668819e104dc3eb4b2",
      "e78d5f1de9434182a50a36fa7989294c",
      "cef5e7547e6d4a3a890e7c0c7d1685b4",
      "43f99297a4ae40049d099f799ee37934",
      "a04f0e8092ff4765a53adb1df59fda5b",
      "b08e78047e534982b04874276d174a4d",
      "fa5ecfa4dfd743ea9a07d871fc6717de",
      "aa98728d58cb47c3bb5e68b48018d88c",
      "91e96eaea89e4cf18a2ac0e76b0ab9dc",
      "484cac3404c34557ad5679ff3c63baca"
     ]
    },
    "executionInfo": {
     "elapsed": 28496,
     "status": "ok",
     "timestamp": 1653319431403,
     "user": {
      "displayName": "Hongrui Wang",
      "userId": "04016851104878316140"
     },
     "user_tz": 240
    },
    "id": "BQPuIxmKSYdo",
    "outputId": "e90698d3-d0e3-4688-c180-a4f3f2d50bd4"
   },
   "outputs": [],
   "source": [
    "#SHAP on a single datapoint\n",
    "shap_values_single = explainer.shap_values(single_datapoint, nsamples=NSHAP_SAMPLES)"
   ]
  },
  {
   "cell_type": "code",
   "execution_count": null,
   "metadata": {
    "colab": {
     "base_uri": "https://localhost:8080/",
     "height": 1000,
     "referenced_widgets": [
      "12ba092f5ac24ad3871cc400a02f100e",
      "fc5b3177b0f84c9e8480e3974185e6da",
      "41d22508457c477d822c6396cb1cf713",
      "b3b1d40673fc4da691e1c2d7c65e0262",
      "b71f098b68214f32bf90b31d194705f4",
      "08745e694a60415b8cc155b0649c59c2",
      "1c06cb95a6a142498240c4dec36ca219",
      "ea27a64e212b47dc83b517a42eef3989",
      "45b2192b0ac44f4eb279b16378461d65",
      "277a2601ea80482ba6c579a279407351",
      "f55f24b0a1d24291adfdc2918df437d1"
     ]
    },
    "executionInfo": {
     "elapsed": 2502839,
     "status": "ok",
     "timestamp": 1653321934228,
     "user": {
      "displayName": "Hongrui Wang",
      "userId": "04016851104878316140"
     },
     "user_tz": 240
    },
    "id": "I8sS594tcSwa",
    "outputId": "2e13e22a-219f-4ea4-ac28-42448b6abd52"
   },
   "outputs": [],
   "source": [
    "#SHAP of all testing data\n",
    "shap_values = explainer.shap_values(X_valid.iloc[0:N_VAL,:], nsamples=NSHAP_SAMPLES)\n",
    "shap.force_plot(explainer.expected_value, shap_values, X_valid.iloc[0:N_VAL,:])"
   ]
  },
  {
   "cell_type": "code",
   "execution_count": null,
   "metadata": {
    "id": "sVssl6vIRCnF"
   },
   "outputs": [],
   "source": [
    "import matplotlib.pyplot as plt"
   ]
  },
  {
   "cell_type": "code",
   "execution_count": null,
   "metadata": {
    "colab": {
     "base_uri": "https://localhost:8080/",
     "height": 1000
    },
    "executionInfo": {
     "elapsed": 39728,
     "status": "ok",
     "timestamp": 1653322250187,
     "user": {
      "displayName": "Hongrui Wang",
      "userId": "04016851104878316140"
     },
     "user_tz": 240
    },
    "id": "x6p4TpK9RTHf",
    "outputId": "7fe912a0-364d-4e9d-d15b-a24b41180216"
   },
   "outputs": [],
   "source": [
    "#ploting all the SHAP of each features\n",
    "shap.summary_plot(shap_values, X_valid.iloc[0:N_VAL,:],max_display= 118,show=False,plot_type=\"dot\")\n",
    "plt.savefig('shap_118_feature_no_photo.png', dpi=1000,bbox_inches='tight', pad_inches=0,facecolor = 'white')\n",
    "#ploting all the SHAP of top 15 features\n",
    "shap.summary_plot(shap_values, X_valid.iloc[0:N_VAL,:],max_display= 15,show=False,plot_type=\"dot\")\n",
    "plt.savefig('shap_15_feature_no_photo.png', dpi=1000,bbox_inches='tight', pad_inches=0,facecolor = 'white')"
   ]
  },
  {
   "cell_type": "code",
   "execution_count": null,
   "metadata": {
    "colab": {
     "base_uri": "https://localhost:8080/",
     "height": 488
    },
    "executionInfo": {
     "elapsed": 11,
     "status": "ok",
     "timestamp": 1653242793081,
     "user": {
      "displayName": "Hongrui Wang",
      "userId": "04016851104878316140"
     },
     "user_tz": 240
    },
    "id": "8LbKECflMMfi",
    "outputId": "2371b920-c637-4875-b6b6-89ff08ff0317"
   },
   "outputs": [],
   "source": [
    "#Optional: save shap value\n",
    "X_valid.iloc[0:N_VAL,:]\n",
    "X_valid.iloc[0:N_VAL,:].to_csv (r'shap_dataset.csv', index = True, header=True)\n",
    "shap_values_df = pd.DataFrame(shap_values)\n",
    "shap_values_df\n",
    "shap_values_df.to_csv (r'shap_dataset_shap_values.csv', index = False, header=True)"
   ]
  }
 ],
 "metadata": {
  "colab": {
   "authorship_tag": "ABX9TyNmcMCxM84Ca/gjobP/T3Dq",
   "collapsed_sections": [],
   "mount_file_id": "1DjIZfSzF0KRtu5ZwvTztq_ZjAJjKWtZ7",
   "name": "Combined_dataset_Autogluon_model_construction.ipynb",
   "provenance": []
  },
  "kernelspec": {
   "display_name": "Python 3 (ipykernel)",
   "language": "python",
   "name": "python3"
  },
  "language_info": {
   "codemirror_mode": {
    "name": "ipython",
    "version": 3
   },
   "file_extension": ".py",
   "mimetype": "text/x-python",
   "name": "python",
   "nbconvert_exporter": "python",
   "pygments_lexer": "ipython3",
   "version": "3.9.12"
  },
  "widgets": {
   "application/vnd.jupyter.widget-state+json": {
    "0545396483b94f12a76829067464c36f": {
     "model_module": "@jupyter-widgets/controls",
     "model_module_version": "1.5.0",
     "model_name": "HBoxModel",
     "state": {
      "_dom_classes": [],
      "_model_module": "@jupyter-widgets/controls",
      "_model_module_version": "1.5.0",
      "_model_name": "HBoxModel",
      "_view_count": null,
      "_view_module": "@jupyter-widgets/controls",
      "_view_module_version": "1.5.0",
      "_view_name": "HBoxView",
      "box_style": "",
      "children": [
       "IPY_MODEL_ba40ec543fb04e668819e104dc3eb4b2",
       "IPY_MODEL_e78d5f1de9434182a50a36fa7989294c",
       "IPY_MODEL_cef5e7547e6d4a3a890e7c0c7d1685b4"
      ],
      "layout": "IPY_MODEL_43f99297a4ae40049d099f799ee37934"
     }
    },
    "08745e694a60415b8cc155b0649c59c2": {
     "model_module": "@jupyter-widgets/base",
     "model_module_version": "1.2.0",
     "model_name": "LayoutModel",
     "state": {
      "_model_module": "@jupyter-widgets/base",
      "_model_module_version": "1.2.0",
      "_model_name": "LayoutModel",
      "_view_count": null,
      "_view_module": "@jupyter-widgets/base",
      "_view_module_version": "1.2.0",
      "_view_name": "LayoutView",
      "align_content": null,
      "align_items": null,
      "align_self": null,
      "border": null,
      "bottom": null,
      "display": null,
      "flex": null,
      "flex_flow": null,
      "grid_area": null,
      "grid_auto_columns": null,
      "grid_auto_flow": null,
      "grid_auto_rows": null,
      "grid_column": null,
      "grid_gap": null,
      "grid_row": null,
      "grid_template_areas": null,
      "grid_template_columns": null,
      "grid_template_rows": null,
      "height": null,
      "justify_content": null,
      "justify_items": null,
      "left": null,
      "margin": null,
      "max_height": null,
      "max_width": null,
      "min_height": null,
      "min_width": null,
      "object_fit": null,
      "object_position": null,
      "order": null,
      "overflow": null,
      "overflow_x": null,
      "overflow_y": null,
      "padding": null,
      "right": null,
      "top": null,
      "visibility": null,
      "width": null
     }
    },
    "12ba092f5ac24ad3871cc400a02f100e": {
     "model_module": "@jupyter-widgets/controls",
     "model_module_version": "1.5.0",
     "model_name": "HBoxModel",
     "state": {
      "_dom_classes": [],
      "_model_module": "@jupyter-widgets/controls",
      "_model_module_version": "1.5.0",
      "_model_name": "HBoxModel",
      "_view_count": null,
      "_view_module": "@jupyter-widgets/controls",
      "_view_module_version": "1.5.0",
      "_view_name": "HBoxView",
      "box_style": "",
      "children": [
       "IPY_MODEL_fc5b3177b0f84c9e8480e3974185e6da",
       "IPY_MODEL_41d22508457c477d822c6396cb1cf713",
       "IPY_MODEL_b3b1d40673fc4da691e1c2d7c65e0262"
      ],
      "layout": "IPY_MODEL_b71f098b68214f32bf90b31d194705f4"
     }
    },
    "1c06cb95a6a142498240c4dec36ca219": {
     "model_module": "@jupyter-widgets/controls",
     "model_module_version": "1.5.0",
     "model_name": "DescriptionStyleModel",
     "state": {
      "_model_module": "@jupyter-widgets/controls",
      "_model_module_version": "1.5.0",
      "_model_name": "DescriptionStyleModel",
      "_view_count": null,
      "_view_module": "@jupyter-widgets/base",
      "_view_module_version": "1.2.0",
      "_view_name": "StyleView",
      "description_width": ""
     }
    },
    "277a2601ea80482ba6c579a279407351": {
     "model_module": "@jupyter-widgets/base",
     "model_module_version": "1.2.0",
     "model_name": "LayoutModel",
     "state": {
      "_model_module": "@jupyter-widgets/base",
      "_model_module_version": "1.2.0",
      "_model_name": "LayoutModel",
      "_view_count": null,
      "_view_module": "@jupyter-widgets/base",
      "_view_module_version": "1.2.0",
      "_view_name": "LayoutView",
      "align_content": null,
      "align_items": null,
      "align_self": null,
      "border": null,
      "bottom": null,
      "display": null,
      "flex": null,
      "flex_flow": null,
      "grid_area": null,
      "grid_auto_columns": null,
      "grid_auto_flow": null,
      "grid_auto_rows": null,
      "grid_column": null,
      "grid_gap": null,
      "grid_row": null,
      "grid_template_areas": null,
      "grid_template_columns": null,
      "grid_template_rows": null,
      "height": null,
      "justify_content": null,
      "justify_items": null,
      "left": null,
      "margin": null,
      "max_height": null,
      "max_width": null,
      "min_height": null,
      "min_width": null,
      "object_fit": null,
      "object_position": null,
      "order": null,
      "overflow": null,
      "overflow_x": null,
      "overflow_y": null,
      "padding": null,
      "right": null,
      "top": null,
      "visibility": null,
      "width": null
     }
    },
    "41d22508457c477d822c6396cb1cf713": {
     "model_module": "@jupyter-widgets/controls",
     "model_module_version": "1.5.0",
     "model_name": "FloatProgressModel",
     "state": {
      "_dom_classes": [],
      "_model_module": "@jupyter-widgets/controls",
      "_model_module_version": "1.5.0",
      "_model_name": "FloatProgressModel",
      "_view_count": null,
      "_view_module": "@jupyter-widgets/controls",
      "_view_module_version": "1.5.0",
      "_view_name": "ProgressView",
      "bar_style": "success",
      "description": "",
      "description_tooltip": null,
      "layout": "IPY_MODEL_ea27a64e212b47dc83b517a42eef3989",
      "max": 200,
      "min": 0,
      "orientation": "horizontal",
      "style": "IPY_MODEL_45b2192b0ac44f4eb279b16378461d65",
      "value": 200
     }
    },
    "43f99297a4ae40049d099f799ee37934": {
     "model_module": "@jupyter-widgets/base",
     "model_module_version": "1.2.0",
     "model_name": "LayoutModel",
     "state": {
      "_model_module": "@jupyter-widgets/base",
      "_model_module_version": "1.2.0",
      "_model_name": "LayoutModel",
      "_view_count": null,
      "_view_module": "@jupyter-widgets/base",
      "_view_module_version": "1.2.0",
      "_view_name": "LayoutView",
      "align_content": null,
      "align_items": null,
      "align_self": null,
      "border": null,
      "bottom": null,
      "display": null,
      "flex": null,
      "flex_flow": null,
      "grid_area": null,
      "grid_auto_columns": null,
      "grid_auto_flow": null,
      "grid_auto_rows": null,
      "grid_column": null,
      "grid_gap": null,
      "grid_row": null,
      "grid_template_areas": null,
      "grid_template_columns": null,
      "grid_template_rows": null,
      "height": null,
      "justify_content": null,
      "justify_items": null,
      "left": null,
      "margin": null,
      "max_height": null,
      "max_width": null,
      "min_height": null,
      "min_width": null,
      "object_fit": null,
      "object_position": null,
      "order": null,
      "overflow": null,
      "overflow_x": null,
      "overflow_y": null,
      "padding": null,
      "right": null,
      "top": null,
      "visibility": null,
      "width": null
     }
    },
    "45b2192b0ac44f4eb279b16378461d65": {
     "model_module": "@jupyter-widgets/controls",
     "model_module_version": "1.5.0",
     "model_name": "ProgressStyleModel",
     "state": {
      "_model_module": "@jupyter-widgets/controls",
      "_model_module_version": "1.5.0",
      "_model_name": "ProgressStyleModel",
      "_view_count": null,
      "_view_module": "@jupyter-widgets/base",
      "_view_module_version": "1.2.0",
      "_view_name": "StyleView",
      "bar_color": null,
      "description_width": ""
     }
    },
    "484cac3404c34557ad5679ff3c63baca": {
     "model_module": "@jupyter-widgets/controls",
     "model_module_version": "1.5.0",
     "model_name": "DescriptionStyleModel",
     "state": {
      "_model_module": "@jupyter-widgets/controls",
      "_model_module_version": "1.5.0",
      "_model_name": "DescriptionStyleModel",
      "_view_count": null,
      "_view_module": "@jupyter-widgets/base",
      "_view_module_version": "1.2.0",
      "_view_name": "StyleView",
      "description_width": ""
     }
    },
    "91e96eaea89e4cf18a2ac0e76b0ab9dc": {
     "model_module": "@jupyter-widgets/base",
     "model_module_version": "1.2.0",
     "model_name": "LayoutModel",
     "state": {
      "_model_module": "@jupyter-widgets/base",
      "_model_module_version": "1.2.0",
      "_model_name": "LayoutModel",
      "_view_count": null,
      "_view_module": "@jupyter-widgets/base",
      "_view_module_version": "1.2.0",
      "_view_name": "LayoutView",
      "align_content": null,
      "align_items": null,
      "align_self": null,
      "border": null,
      "bottom": null,
      "display": null,
      "flex": null,
      "flex_flow": null,
      "grid_area": null,
      "grid_auto_columns": null,
      "grid_auto_flow": null,
      "grid_auto_rows": null,
      "grid_column": null,
      "grid_gap": null,
      "grid_row": null,
      "grid_template_areas": null,
      "grid_template_columns": null,
      "grid_template_rows": null,
      "height": null,
      "justify_content": null,
      "justify_items": null,
      "left": null,
      "margin": null,
      "max_height": null,
      "max_width": null,
      "min_height": null,
      "min_width": null,
      "object_fit": null,
      "object_position": null,
      "order": null,
      "overflow": null,
      "overflow_x": null,
      "overflow_y": null,
      "padding": null,
      "right": null,
      "top": null,
      "visibility": null,
      "width": null
     }
    },
    "a04f0e8092ff4765a53adb1df59fda5b": {
     "model_module": "@jupyter-widgets/base",
     "model_module_version": "1.2.0",
     "model_name": "LayoutModel",
     "state": {
      "_model_module": "@jupyter-widgets/base",
      "_model_module_version": "1.2.0",
      "_model_name": "LayoutModel",
      "_view_count": null,
      "_view_module": "@jupyter-widgets/base",
      "_view_module_version": "1.2.0",
      "_view_name": "LayoutView",
      "align_content": null,
      "align_items": null,
      "align_self": null,
      "border": null,
      "bottom": null,
      "display": null,
      "flex": null,
      "flex_flow": null,
      "grid_area": null,
      "grid_auto_columns": null,
      "grid_auto_flow": null,
      "grid_auto_rows": null,
      "grid_column": null,
      "grid_gap": null,
      "grid_row": null,
      "grid_template_areas": null,
      "grid_template_columns": null,
      "grid_template_rows": null,
      "height": null,
      "justify_content": null,
      "justify_items": null,
      "left": null,
      "margin": null,
      "max_height": null,
      "max_width": null,
      "min_height": null,
      "min_width": null,
      "object_fit": null,
      "object_position": null,
      "order": null,
      "overflow": null,
      "overflow_x": null,
      "overflow_y": null,
      "padding": null,
      "right": null,
      "top": null,
      "visibility": null,
      "width": null
     }
    },
    "aa98728d58cb47c3bb5e68b48018d88c": {
     "model_module": "@jupyter-widgets/controls",
     "model_module_version": "1.5.0",
     "model_name": "ProgressStyleModel",
     "state": {
      "_model_module": "@jupyter-widgets/controls",
      "_model_module_version": "1.5.0",
      "_model_name": "ProgressStyleModel",
      "_view_count": null,
      "_view_module": "@jupyter-widgets/base",
      "_view_module_version": "1.2.0",
      "_view_name": "StyleView",
      "bar_color": null,
      "description_width": ""
     }
    },
    "b08e78047e534982b04874276d174a4d": {
     "model_module": "@jupyter-widgets/controls",
     "model_module_version": "1.5.0",
     "model_name": "DescriptionStyleModel",
     "state": {
      "_model_module": "@jupyter-widgets/controls",
      "_model_module_version": "1.5.0",
      "_model_name": "DescriptionStyleModel",
      "_view_count": null,
      "_view_module": "@jupyter-widgets/base",
      "_view_module_version": "1.2.0",
      "_view_name": "StyleView",
      "description_width": ""
     }
    },
    "b3b1d40673fc4da691e1c2d7c65e0262": {
     "model_module": "@jupyter-widgets/controls",
     "model_module_version": "1.5.0",
     "model_name": "HTMLModel",
     "state": {
      "_dom_classes": [],
      "_model_module": "@jupyter-widgets/controls",
      "_model_module_version": "1.5.0",
      "_model_name": "HTMLModel",
      "_view_count": null,
      "_view_module": "@jupyter-widgets/controls",
      "_view_module_version": "1.5.0",
      "_view_name": "HTMLView",
      "description": "",
      "description_tooltip": null,
      "layout": "IPY_MODEL_277a2601ea80482ba6c579a279407351",
      "placeholder": "​",
      "style": "IPY_MODEL_f55f24b0a1d24291adfdc2918df437d1",
      "value": " 200/200 [41:41&lt;00:00, 12.38s/it]"
     }
    },
    "b71f098b68214f32bf90b31d194705f4": {
     "model_module": "@jupyter-widgets/base",
     "model_module_version": "1.2.0",
     "model_name": "LayoutModel",
     "state": {
      "_model_module": "@jupyter-widgets/base",
      "_model_module_version": "1.2.0",
      "_model_name": "LayoutModel",
      "_view_count": null,
      "_view_module": "@jupyter-widgets/base",
      "_view_module_version": "1.2.0",
      "_view_name": "LayoutView",
      "align_content": null,
      "align_items": null,
      "align_self": null,
      "border": null,
      "bottom": null,
      "display": null,
      "flex": null,
      "flex_flow": null,
      "grid_area": null,
      "grid_auto_columns": null,
      "grid_auto_flow": null,
      "grid_auto_rows": null,
      "grid_column": null,
      "grid_gap": null,
      "grid_row": null,
      "grid_template_areas": null,
      "grid_template_columns": null,
      "grid_template_rows": null,
      "height": null,
      "justify_content": null,
      "justify_items": null,
      "left": null,
      "margin": null,
      "max_height": null,
      "max_width": null,
      "min_height": null,
      "min_width": null,
      "object_fit": null,
      "object_position": null,
      "order": null,
      "overflow": null,
      "overflow_x": null,
      "overflow_y": null,
      "padding": null,
      "right": null,
      "top": null,
      "visibility": null,
      "width": null
     }
    },
    "ba40ec543fb04e668819e104dc3eb4b2": {
     "model_module": "@jupyter-widgets/controls",
     "model_module_version": "1.5.0",
     "model_name": "HTMLModel",
     "state": {
      "_dom_classes": [],
      "_model_module": "@jupyter-widgets/controls",
      "_model_module_version": "1.5.0",
      "_model_name": "HTMLModel",
      "_view_count": null,
      "_view_module": "@jupyter-widgets/controls",
      "_view_module_version": "1.5.0",
      "_view_name": "HTMLView",
      "description": "",
      "description_tooltip": null,
      "layout": "IPY_MODEL_a04f0e8092ff4765a53adb1df59fda5b",
      "placeholder": "​",
      "style": "IPY_MODEL_b08e78047e534982b04874276d174a4d",
      "value": "100%"
     }
    },
    "cef5e7547e6d4a3a890e7c0c7d1685b4": {
     "model_module": "@jupyter-widgets/controls",
     "model_module_version": "1.5.0",
     "model_name": "HTMLModel",
     "state": {
      "_dom_classes": [],
      "_model_module": "@jupyter-widgets/controls",
      "_model_module_version": "1.5.0",
      "_model_name": "HTMLModel",
      "_view_count": null,
      "_view_module": "@jupyter-widgets/controls",
      "_view_module_version": "1.5.0",
      "_view_name": "HTMLView",
      "description": "",
      "description_tooltip": null,
      "layout": "IPY_MODEL_91e96eaea89e4cf18a2ac0e76b0ab9dc",
      "placeholder": "​",
      "style": "IPY_MODEL_484cac3404c34557ad5679ff3c63baca",
      "value": " 1/1 [00:28&lt;00:00, 28.59s/it]"
     }
    },
    "e78d5f1de9434182a50a36fa7989294c": {
     "model_module": "@jupyter-widgets/controls",
     "model_module_version": "1.5.0",
     "model_name": "FloatProgressModel",
     "state": {
      "_dom_classes": [],
      "_model_module": "@jupyter-widgets/controls",
      "_model_module_version": "1.5.0",
      "_model_name": "FloatProgressModel",
      "_view_count": null,
      "_view_module": "@jupyter-widgets/controls",
      "_view_module_version": "1.5.0",
      "_view_name": "ProgressView",
      "bar_style": "success",
      "description": "",
      "description_tooltip": null,
      "layout": "IPY_MODEL_fa5ecfa4dfd743ea9a07d871fc6717de",
      "max": 1,
      "min": 0,
      "orientation": "horizontal",
      "style": "IPY_MODEL_aa98728d58cb47c3bb5e68b48018d88c",
      "value": 1
     }
    },
    "ea27a64e212b47dc83b517a42eef3989": {
     "model_module": "@jupyter-widgets/base",
     "model_module_version": "1.2.0",
     "model_name": "LayoutModel",
     "state": {
      "_model_module": "@jupyter-widgets/base",
      "_model_module_version": "1.2.0",
      "_model_name": "LayoutModel",
      "_view_count": null,
      "_view_module": "@jupyter-widgets/base",
      "_view_module_version": "1.2.0",
      "_view_name": "LayoutView",
      "align_content": null,
      "align_items": null,
      "align_self": null,
      "border": null,
      "bottom": null,
      "display": null,
      "flex": null,
      "flex_flow": null,
      "grid_area": null,
      "grid_auto_columns": null,
      "grid_auto_flow": null,
      "grid_auto_rows": null,
      "grid_column": null,
      "grid_gap": null,
      "grid_row": null,
      "grid_template_areas": null,
      "grid_template_columns": null,
      "grid_template_rows": null,
      "height": null,
      "justify_content": null,
      "justify_items": null,
      "left": null,
      "margin": null,
      "max_height": null,
      "max_width": null,
      "min_height": null,
      "min_width": null,
      "object_fit": null,
      "object_position": null,
      "order": null,
      "overflow": null,
      "overflow_x": null,
      "overflow_y": null,
      "padding": null,
      "right": null,
      "top": null,
      "visibility": null,
      "width": null
     }
    },
    "f55f24b0a1d24291adfdc2918df437d1": {
     "model_module": "@jupyter-widgets/controls",
     "model_module_version": "1.5.0",
     "model_name": "DescriptionStyleModel",
     "state": {
      "_model_module": "@jupyter-widgets/controls",
      "_model_module_version": "1.5.0",
      "_model_name": "DescriptionStyleModel",
      "_view_count": null,
      "_view_module": "@jupyter-widgets/base",
      "_view_module_version": "1.2.0",
      "_view_name": "StyleView",
      "description_width": ""
     }
    },
    "fa5ecfa4dfd743ea9a07d871fc6717de": {
     "model_module": "@jupyter-widgets/base",
     "model_module_version": "1.2.0",
     "model_name": "LayoutModel",
     "state": {
      "_model_module": "@jupyter-widgets/base",
      "_model_module_version": "1.2.0",
      "_model_name": "LayoutModel",
      "_view_count": null,
      "_view_module": "@jupyter-widgets/base",
      "_view_module_version": "1.2.0",
      "_view_name": "LayoutView",
      "align_content": null,
      "align_items": null,
      "align_self": null,
      "border": null,
      "bottom": null,
      "display": null,
      "flex": null,
      "flex_flow": null,
      "grid_area": null,
      "grid_auto_columns": null,
      "grid_auto_flow": null,
      "grid_auto_rows": null,
      "grid_column": null,
      "grid_gap": null,
      "grid_row": null,
      "grid_template_areas": null,
      "grid_template_columns": null,
      "grid_template_rows": null,
      "height": null,
      "justify_content": null,
      "justify_items": null,
      "left": null,
      "margin": null,
      "max_height": null,
      "max_width": null,
      "min_height": null,
      "min_width": null,
      "object_fit": null,
      "object_position": null,
      "order": null,
      "overflow": null,
      "overflow_x": null,
      "overflow_y": null,
      "padding": null,
      "right": null,
      "top": null,
      "visibility": null,
      "width": null
     }
    },
    "fc5b3177b0f84c9e8480e3974185e6da": {
     "model_module": "@jupyter-widgets/controls",
     "model_module_version": "1.5.0",
     "model_name": "HTMLModel",
     "state": {
      "_dom_classes": [],
      "_model_module": "@jupyter-widgets/controls",
      "_model_module_version": "1.5.0",
      "_model_name": "HTMLModel",
      "_view_count": null,
      "_view_module": "@jupyter-widgets/controls",
      "_view_module_version": "1.5.0",
      "_view_name": "HTMLView",
      "description": "",
      "description_tooltip": null,
      "layout": "IPY_MODEL_08745e694a60415b8cc155b0649c59c2",
      "placeholder": "​",
      "style": "IPY_MODEL_1c06cb95a6a142498240c4dec36ca219",
      "value": "100%"
     }
    }
   }
  }
 },
 "nbformat": 4,
 "nbformat_minor": 1
}
